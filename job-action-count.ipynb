{
 "cells": [
  {
   "cell_type": "markdown",
   "metadata": {},
   "source": [
    "# Counting Job Action\n",
    "\n",
    "統計每個工作的每個 Action 的執行次數並另存成 csv 檔案。原始資料及位置連結在[104Hackathon](https://github.com/104corp/2018-104Hackathon-Recommendation/blob/master/2018-104-hackathon-dataset.md)，其中會用到 `train-click.json` 與 `train-action.json` 兩個檔案，請自行下載並解壓縮。\n"
   ]
  },
  {
   "cell_type": "code",
   "execution_count": null,
   "metadata": {},
   "outputs": [],
   "source": [
    "import pandas as pd\n",
    "import os, json"
   ]
  },
  {
   "cell_type": "markdown",
   "metadata": {},
   "source": [
    "#### 讀取 job-clean.json 資料並建立 counting dataframe\n",
    "\n",
    "\n",
    "> 原先的 job.json 在字串中包含 [Unicode LINE SEPARATOR](https://www.fileformat.info/info/unicode/char/2028/index.htm) 會造成讀取文件時斷行錯誤，因此先使用 `sed \"s/$(echo -ne $'\\u2028')//g\"` 指令去除掉該字元產生 `job-clean.json`。"
   ]
  },
  {
   "cell_type": "code",
   "execution_count": null,
   "metadata": {},
   "outputs": [],
   "source": [
    "df_job = pd.read_json('job-clean.json', lines=True)\n",
    "df_job = df_job.filter(items=['jobno'])\n",
    "\n",
    "# Train-click\n",
    "df_job['clickJob'] = 0\n",
    "df_job['clickSave'] = 0\n",
    "df_job['clickApply'] = 0\n",
    "\n",
    "# Train-action\n",
    "df_job['viewJob'] = 0\n",
    "df_job['applyJob'] = 0\n",
    "df_job['saveJob'] = 0\n",
    "\n",
    "df_job = df_job.set_index('jobno')"
   ]
  },
  {
   "cell_type": "markdown",
   "metadata": {},
   "source": [
    "#### 統計每個工作不同 action 的次數"
   ]
  },
  {
   "cell_type": "code",
   "execution_count": null,
   "metadata": {},
   "outputs": [],
   "source": [
    "def countAction(df, file):\n",
    "    print('Count Action: ', file)\n",
    "    with open(file) as f:\n",
    "        count = 0\n",
    "        for line in f:\n",
    "            obj = json.loads(line)\n",
    "            jobno = int(obj['jobno'])\n",
    "            act = obj['action']\n",
    "            df.loc[jobno][act] += 1\n",
    "            count += 1        \n",
    "        print('Run count ', count)"
   ]
  },
  {
   "cell_type": "code",
   "execution_count": null,
   "metadata": {},
   "outputs": [],
   "source": [
    "click_file = os.path.join(source_folder, 'train-click.json')\n",
    "action_file = os.path.join(source_folder, 'train-action.json')\n",
    "\n",
    "countAction(df_job, click_file)\n",
    "countAction(df_job, action_file)"
   ]
  },
  {
   "cell_type": "markdown",
   "metadata": {},
   "source": [
    "#### 將 Dataframe 另存為 csv 檔案，方便之後使用"
   ]
  },
  {
   "cell_type": "code",
   "execution_count": null,
   "metadata": {},
   "outputs": [],
   "source": [
    "\n",
    "# Save statistics result to csv\n",
    "df_job.to_csv('job-action-stat.csv')\n"
   ]
  }
 ],
 "metadata": {
  "kernelspec": {
   "display_name": "Python 3",
   "language": "python",
   "name": "python3"
  },
  "language_info": {
   "codemirror_mode": {
    "name": "ipython",
    "version": 3
   },
   "file_extension": ".py",
   "mimetype": "text/x-python",
   "name": "python",
   "nbconvert_exporter": "python",
   "pygments_lexer": "ipython3",
   "version": "3.6.6"
  }
 },
 "nbformat": 4,
 "nbformat_minor": 2
}
